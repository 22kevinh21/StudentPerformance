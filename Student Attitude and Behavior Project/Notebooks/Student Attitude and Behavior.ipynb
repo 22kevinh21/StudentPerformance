{
 "cells": [
  {
   "cell_type": "markdown",
   "id": "4456ce6d",
   "metadata": {},
   "source": [
    "# Student Attitude and Behavior Analysis\n",
    "We will analyze the different factors that affect how stressed a student feels, how well they do, and how well they are projected to succeed financially."
   ]
  },
  {
   "cell_type": "code",
   "execution_count": null,
   "id": "a59c8775",
   "metadata": {},
   "outputs": [],
   "source": []
  }
 ],
 "metadata": {
  "kernelspec": {
   "display_name": "Python 3 (ipykernel)",
   "language": "python",
   "name": "python3"
  },
  "language_info": {
   "codemirror_mode": {
    "name": "ipython",
    "version": 3
   },
   "file_extension": ".py",
   "mimetype": "text/x-python",
   "name": "python",
   "nbconvert_exporter": "python",
   "pygments_lexer": "ipython3",
   "version": "3.9.13"
  }
 },
 "nbformat": 4,
 "nbformat_minor": 5
}
